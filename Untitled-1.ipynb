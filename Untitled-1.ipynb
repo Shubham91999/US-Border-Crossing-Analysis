{
 "cells": [
  {
   "cell_type": "code",
   "execution_count": 1,
   "metadata": {},
   "outputs": [],
   "source": [
    "import pandas as pd"
   ]
  },
  {
   "cell_type": "code",
   "execution_count": 2,
   "metadata": {},
   "outputs": [],
   "source": [
    "df = pd.read_csv(\"Border_Crossing_Entry_Data.csv\")"
   ]
  },
  {
   "cell_type": "code",
   "execution_count": 3,
   "metadata": {},
   "outputs": [
    {
     "name": "stdout",
     "output_type": "stream",
     "text": [
      "<class 'pandas.core.frame.DataFrame'>\n",
      "RangeIndex: 397152 entries, 0 to 397151\n",
      "Data columns (total 10 columns):\n",
      " #   Column     Non-Null Count   Dtype  \n",
      "---  ------     --------------   -----  \n",
      " 0   Port Name  397152 non-null  object \n",
      " 1   State      397152 non-null  object \n",
      " 2   Port Code  397152 non-null  int64  \n",
      " 3   Border     397152 non-null  object \n",
      " 4   Date       397152 non-null  object \n",
      " 5   Measure    397152 non-null  object \n",
      " 6   Value      397152 non-null  int64  \n",
      " 7   Latitude   397152 non-null  float64\n",
      " 8   Longitude  397152 non-null  float64\n",
      " 9   Point      397152 non-null  object \n",
      "dtypes: float64(2), int64(2), object(6)\n",
      "memory usage: 30.3+ MB\n",
      "None\n"
     ]
    }
   ],
   "source": [
    "# Column types and non-null values\n",
    "print(df.info())  \n"
   ]
  },
  {
   "cell_type": "code",
   "execution_count": 4,
   "metadata": {},
   "outputs": [
    {
     "name": "stdout",
     "output_type": "stream",
     "text": [
      "           Port Code         Value       Latitude      Longitude\n",
      "count  397152.000000  3.971520e+05  397152.000000  397152.000000\n",
      "mean     2446.232510  2.889394e+04      43.971354     -99.725142\n",
      "std      1204.229428  1.495623e+05       8.152182      18.259343\n",
      "min       101.000000  0.000000e+00      25.952000    -141.001000\n",
      "25%      2304.000000  0.000000e+00      42.999000    -114.728000\n",
      "50%      3012.000000  1.450000e+02      48.122000    -101.628000\n",
      "75%      3401.000000  3.002000e+03      49.000000     -89.585000\n",
      "max      3814.000000  4.447374e+06      62.615000     -66.980000\n"
     ]
    }
   ],
   "source": [
    "# Statistical summary\n",
    "print(df.describe())  \n"
   ]
  },
  {
   "cell_type": "code",
   "execution_count": 5,
   "metadata": {},
   "outputs": [
    {
     "name": "stdout",
     "output_type": "stream",
     "text": [
      "Port Name      116\n",
      "State           14\n",
      "Port Code      117\n",
      "Border           2\n",
      "Date           347\n",
      "Measure         12\n",
      "Value        61066\n",
      "Latitude        71\n",
      "Longitude      116\n",
      "Point          116\n",
      "dtype: int64\n"
     ]
    }
   ],
   "source": [
    "# Unique values per column\n",
    "print(df.nunique())  \n"
   ]
  },
  {
   "cell_type": "code",
   "execution_count": 6,
   "metadata": {},
   "outputs": [
    {
     "name": "stdout",
     "output_type": "stream",
     "text": [
      "Port Name    0.0\n",
      "State        0.0\n",
      "Port Code    0.0\n",
      "Border       0.0\n",
      "Date         0.0\n",
      "Measure      0.0\n",
      "Value        0.0\n",
      "Latitude     0.0\n",
      "Longitude    0.0\n",
      "Point        0.0\n",
      "dtype: float64\n"
     ]
    }
   ],
   "source": [
    "# Missing value percentage\n",
    "print(df.isnull().sum() / len(df) * 100)  \n"
   ]
  },
  {
   "cell_type": "code",
   "execution_count": 7,
   "metadata": {},
   "outputs": [
    {
     "name": "stdout",
     "output_type": "stream",
     "text": [
      "Requirement already satisfied: ydata_profiling in /Library/Frameworks/Python.framework/Versions/3.12/lib/python3.12/site-packages (4.12.2)\n",
      "Requirement already satisfied: scipy<1.16,>=1.4.1 in /Library/Frameworks/Python.framework/Versions/3.12/lib/python3.12/site-packages (from ydata_profiling) (1.14.1)\n",
      "Requirement already satisfied: pandas!=1.4.0,<3,>1.1 in /Library/Frameworks/Python.framework/Versions/3.12/lib/python3.12/site-packages (from ydata_profiling) (2.2.3)\n",
      "Requirement already satisfied: matplotlib>=3.5 in /Library/Frameworks/Python.framework/Versions/3.12/lib/python3.12/site-packages (from ydata_profiling) (3.10.0)\n",
      "Requirement already satisfied: pydantic>=2 in /Library/Frameworks/Python.framework/Versions/3.12/lib/python3.12/site-packages (from ydata_profiling) (2.8.2)\n",
      "Requirement already satisfied: PyYAML<6.1,>=5.0.0 in /Library/Frameworks/Python.framework/Versions/3.12/lib/python3.12/site-packages (from ydata_profiling) (6.0.1)\n",
      "Requirement already satisfied: jinja2<3.2,>=2.11.1 in /Library/Frameworks/Python.framework/Versions/3.12/lib/python3.12/site-packages (from ydata_profiling) (3.1.5)\n",
      "Requirement already satisfied: visions<0.8.0,>=0.7.5 in /Library/Frameworks/Python.framework/Versions/3.12/lib/python3.12/site-packages (from visions[type_image_path]<0.8.0,>=0.7.5->ydata_profiling) (0.7.6)\n",
      "Requirement already satisfied: numpy<2.2,>=1.16.0 in /Library/Frameworks/Python.framework/Versions/3.12/lib/python3.12/site-packages (from ydata_profiling) (1.26.4)\n",
      "Requirement already satisfied: htmlmin==0.1.12 in /Library/Frameworks/Python.framework/Versions/3.12/lib/python3.12/site-packages (from ydata_profiling) (0.1.12)\n",
      "Requirement already satisfied: phik<0.13,>=0.11.1 in /Library/Frameworks/Python.framework/Versions/3.12/lib/python3.12/site-packages (from ydata_profiling) (0.12.4)\n",
      "Requirement already satisfied: requests<3,>=2.24.0 in /Library/Frameworks/Python.framework/Versions/3.12/lib/python3.12/site-packages (from ydata_profiling) (2.32.3)\n",
      "Requirement already satisfied: tqdm<5,>=4.48.2 in /Library/Frameworks/Python.framework/Versions/3.12/lib/python3.12/site-packages (from ydata_profiling) (4.66.4)\n",
      "Requirement already satisfied: seaborn<0.14,>=0.10.1 in /Library/Frameworks/Python.framework/Versions/3.12/lib/python3.12/site-packages (from ydata_profiling) (0.13.2)\n",
      "Requirement already satisfied: multimethod<2,>=1.4 in /Library/Frameworks/Python.framework/Versions/3.12/lib/python3.12/site-packages (from ydata_profiling) (1.12)\n",
      "Requirement already satisfied: statsmodels<1,>=0.13.2 in /Library/Frameworks/Python.framework/Versions/3.12/lib/python3.12/site-packages (from ydata_profiling) (0.14.4)\n",
      "Requirement already satisfied: typeguard<5,>=3 in /Library/Frameworks/Python.framework/Versions/3.12/lib/python3.12/site-packages (from ydata_profiling) (4.4.2)\n",
      "Requirement already satisfied: imagehash==4.3.1 in /Library/Frameworks/Python.framework/Versions/3.12/lib/python3.12/site-packages (from ydata_profiling) (4.3.1)\n",
      "Requirement already satisfied: wordcloud>=1.9.3 in /Library/Frameworks/Python.framework/Versions/3.12/lib/python3.12/site-packages (from ydata_profiling) (1.9.4)\n",
      "Requirement already satisfied: dacite>=1.8 in /Library/Frameworks/Python.framework/Versions/3.12/lib/python3.12/site-packages (from ydata_profiling) (1.9.2)\n",
      "Requirement already satisfied: PyWavelets in /Library/Frameworks/Python.framework/Versions/3.12/lib/python3.12/site-packages (from imagehash==4.3.1->ydata_profiling) (1.8.0)\n",
      "Requirement already satisfied: pillow in /Library/Frameworks/Python.framework/Versions/3.12/lib/python3.12/site-packages (from imagehash==4.3.1->ydata_profiling) (11.1.0)\n",
      "Requirement already satisfied: MarkupSafe>=2.0 in /Library/Frameworks/Python.framework/Versions/3.12/lib/python3.12/site-packages (from jinja2<3.2,>=2.11.1->ydata_profiling) (3.0.2)\n",
      "Requirement already satisfied: contourpy>=1.0.1 in /Library/Frameworks/Python.framework/Versions/3.12/lib/python3.12/site-packages (from matplotlib>=3.5->ydata_profiling) (1.3.1)\n",
      "Requirement already satisfied: cycler>=0.10 in /Library/Frameworks/Python.framework/Versions/3.12/lib/python3.12/site-packages (from matplotlib>=3.5->ydata_profiling) (0.12.1)\n",
      "Requirement already satisfied: fonttools>=4.22.0 in /Library/Frameworks/Python.framework/Versions/3.12/lib/python3.12/site-packages (from matplotlib>=3.5->ydata_profiling) (4.55.4)\n",
      "Requirement already satisfied: kiwisolver>=1.3.1 in /Library/Frameworks/Python.framework/Versions/3.12/lib/python3.12/site-packages (from matplotlib>=3.5->ydata_profiling) (1.4.8)\n",
      "Requirement already satisfied: packaging>=20.0 in /Users/shubhamk/Library/Python/3.12/lib/python/site-packages (from matplotlib>=3.5->ydata_profiling) (23.2)\n",
      "Requirement already satisfied: pyparsing>=2.3.1 in /Library/Frameworks/Python.framework/Versions/3.12/lib/python3.12/site-packages (from matplotlib>=3.5->ydata_profiling) (3.2.1)\n",
      "Requirement already satisfied: python-dateutil>=2.7 in /Users/shubhamk/Library/Python/3.12/lib/python/site-packages (from matplotlib>=3.5->ydata_profiling) (2.8.2)\n",
      "Requirement already satisfied: pytz>=2020.1 in /Library/Frameworks/Python.framework/Versions/3.12/lib/python3.12/site-packages (from pandas!=1.4.0,<3,>1.1->ydata_profiling) (2024.2)\n",
      "Requirement already satisfied: tzdata>=2022.7 in /Library/Frameworks/Python.framework/Versions/3.12/lib/python3.12/site-packages (from pandas!=1.4.0,<3,>1.1->ydata_profiling) (2025.1)\n",
      "Requirement already satisfied: joblib>=0.14.1 in /Library/Frameworks/Python.framework/Versions/3.12/lib/python3.12/site-packages (from phik<0.13,>=0.11.1->ydata_profiling) (1.4.2)\n",
      "Requirement already satisfied: annotated-types>=0.4.0 in /Library/Frameworks/Python.framework/Versions/3.12/lib/python3.12/site-packages (from pydantic>=2->ydata_profiling) (0.7.0)\n",
      "Requirement already satisfied: pydantic-core==2.20.1 in /Library/Frameworks/Python.framework/Versions/3.12/lib/python3.12/site-packages (from pydantic>=2->ydata_profiling) (2.20.1)\n",
      "Requirement already satisfied: typing-extensions>=4.6.1 in /Library/Frameworks/Python.framework/Versions/3.12/lib/python3.12/site-packages (from pydantic>=2->ydata_profiling) (4.12.2)\n",
      "Requirement already satisfied: charset-normalizer<4,>=2 in /Library/Frameworks/Python.framework/Versions/3.12/lib/python3.12/site-packages (from requests<3,>=2.24.0->ydata_profiling) (3.3.2)\n",
      "Requirement already satisfied: idna<4,>=2.5 in /Library/Frameworks/Python.framework/Versions/3.12/lib/python3.12/site-packages (from requests<3,>=2.24.0->ydata_profiling) (3.7)\n",
      "Requirement already satisfied: urllib3<3,>=1.21.1 in /Library/Frameworks/Python.framework/Versions/3.12/lib/python3.12/site-packages (from requests<3,>=2.24.0->ydata_profiling) (2.2.2)\n",
      "Requirement already satisfied: certifi>=2017.4.17 in /Library/Frameworks/Python.framework/Versions/3.12/lib/python3.12/site-packages (from requests<3,>=2.24.0->ydata_profiling) (2024.7.4)\n",
      "Requirement already satisfied: patsy>=0.5.6 in /Library/Frameworks/Python.framework/Versions/3.12/lib/python3.12/site-packages (from statsmodels<1,>=0.13.2->ydata_profiling) (1.0.1)\n",
      "Requirement already satisfied: attrs>=19.3.0 in /Library/Frameworks/Python.framework/Versions/3.12/lib/python3.12/site-packages (from visions<0.8.0,>=0.7.5->visions[type_image_path]<0.8.0,>=0.7.5->ydata_profiling) (24.3.0)\n",
      "Requirement already satisfied: networkx>=2.4 in /Library/Frameworks/Python.framework/Versions/3.12/lib/python3.12/site-packages (from visions<0.8.0,>=0.7.5->visions[type_image_path]<0.8.0,>=0.7.5->ydata_profiling) (3.4.2)\n",
      "Requirement already satisfied: six>=1.5 in /Users/shubhamk/Library/Python/3.12/lib/python/site-packages (from python-dateutil>=2.7->matplotlib>=3.5->ydata_profiling) (1.16.0)\n",
      "\n",
      "\u001b[1m[\u001b[0m\u001b[34;49mnotice\u001b[0m\u001b[1;39;49m]\u001b[0m\u001b[39;49m A new release of pip is available: \u001b[0m\u001b[31;49m25.0\u001b[0m\u001b[39;49m -> \u001b[0m\u001b[32;49m25.0.1\u001b[0m\n",
      "\u001b[1m[\u001b[0m\u001b[34;49mnotice\u001b[0m\u001b[1;39;49m]\u001b[0m\u001b[39;49m To update, run: \u001b[0m\u001b[32;49mpip3 install --upgrade pip\u001b[0m\n",
      "Note: you may need to restart the kernel to use updated packages.\n"
     ]
    }
   ],
   "source": [
    "%pip install ydata_profiling"
   ]
  },
  {
   "cell_type": "code",
   "execution_count": 8,
   "metadata": {},
   "outputs": [],
   "source": [
    "from ydata_profiling import ProfileReport\n"
   ]
  },
  {
   "cell_type": "code",
   "execution_count": 9,
   "metadata": {},
   "outputs": [
    {
     "data": {
      "application/vnd.jupyter.widget-view+json": {
       "model_id": "e00c8a0ff1dd4336839e268775310516",
       "version_major": 2,
       "version_minor": 0
      },
      "text/plain": [
       "Summarize dataset:   0%|          | 0/5 [00:00<?, ?it/s]"
      ]
     },
     "metadata": {},
     "output_type": "display_data"
    },
    {
     "data": {
      "application/vnd.jupyter.widget-view+json": {
       "model_id": "87784fc6deed4ee3a44312233da9ebca",
       "version_major": 2,
       "version_minor": 0
      },
      "text/plain": [
       "Generate report structure:   0%|          | 0/1 [00:00<?, ?it/s]"
      ]
     },
     "metadata": {},
     "output_type": "display_data"
    },
    {
     "data": {
      "application/vnd.jupyter.widget-view+json": {
       "model_id": "5b9629a7f7c247e6908166315ea73377",
       "version_major": 2,
       "version_minor": 0
      },
      "text/plain": [
       "Render HTML:   0%|          | 0/1 [00:00<?, ?it/s]"
      ]
     },
     "metadata": {},
     "output_type": "display_data"
    },
    {
     "data": {
      "application/vnd.jupyter.widget-view+json": {
       "model_id": "15de71f2f8e94346906a82d77b8dadef",
       "version_major": 2,
       "version_minor": 0
      },
      "text/plain": [
       "Export report to file:   0%|          | 0/1 [00:00<?, ?it/s]"
      ]
     },
     "metadata": {},
     "output_type": "display_data"
    }
   ],
   "source": [
    "# Generate a report\n",
    "profile = ProfileReport(df, explorative=True)\n",
    "profile.to_file(\"data_profile_report.html\")"
   ]
  },
  {
   "cell_type": "code",
   "execution_count": 10,
   "metadata": {},
   "outputs": [
    {
     "data": {
      "image/png": "[encoded data removed]",
      "text/plain": [
       "<Figure size 1000x500 with 1 Axes>"
      ]
     },
     "metadata": {},
     "output_type": "display_data"
    }
   ],
   "source": [
    "import matplotlib.pyplot as plt\n",
    "%matplotlib inline\n",
    "\n",
    "df['Date'] = pd.to_datetime(df['Date'], format='mixed', errors='coerce')\n",
    "df['Year'] = df['Date'].dt.year\n",
    "\n",
    "yearly_data = df.groupby('Year')['Value'].sum()\n",
    "\n",
    "plt.figure(figsize=(10,5))\n",
    "plt.plot(yearly_data.index, yearly_data.values, marker='o', linestyle='-')\n",
    "plt.title(\"Yearly Border Crossings\")\n",
    "plt.xlabel(\"Year\")\n",
    "plt.ylabel(\"Total Crossings\")\n",
    "plt.grid(True)\n",
    "plt.show()"
   ]
  },
  {
   "cell_type": "code",
   "execution_count": 11,
   "metadata": {},
   "outputs": [
    {
     "data": {
      "image/png": "[encoded data removed]",
      "text/plain": [
       "<Figure size 1000x500 with 1 Axes>"
      ]
     },
     "metadata": {},
     "output_type": "display_data"
    }
   ],
   "source": [
    "import seaborn as sns\n",
    "\n",
    "plt.figure(figsize=(10,5))\n",
    "sns.histplot(df['Value'], bins=50, kde=True)\n",
    "plt.title(\"Distribution of Border Crossing Values\")\n",
    "plt.xlabel(\"Crossing Value\")\n",
    "plt.ylabel(\"Count\")\n",
    "plt.show()"
   ]
  },
  {
   "cell_type": "code",
   "execution_count": 12,
   "metadata": {},
   "outputs": [
    {
     "name": "stdout",
     "output_type": "stream",
     "text": [
      "Requirement already satisfied: folium in /Library/Frameworks/Python.framework/Versions/3.12/lib/python3.12/site-packages (0.19.4)\n",
      "Requirement already satisfied: branca>=0.6.0 in /Library/Frameworks/Python.framework/Versions/3.12/lib/python3.12/site-packages (from folium) (0.8.1)\n",
      "Requirement already satisfied: jinja2>=2.9 in /Library/Frameworks/Python.framework/Versions/3.12/lib/python3.12/site-packages (from folium) (3.1.5)\n",
      "Requirement already satisfied: numpy in /Library/Frameworks/Python.framework/Versions/3.12/lib/python3.12/site-packages (from folium) (1.26.4)\n",
      "Requirement already satisfied: requests in /Library/Frameworks/Python.framework/Versions/3.12/lib/python3.12/site-packages (from folium) (2.32.3)\n",
      "Requirement already satisfied: xyzservices in /Library/Frameworks/Python.framework/Versions/3.12/lib/python3.12/site-packages (from folium) (2025.1.0)\n",
      "Requirement already satisfied: MarkupSafe>=2.0 in /Library/Frameworks/Python.framework/Versions/3.12/lib/python3.12/site-packages (from jinja2>=2.9->folium) (3.0.2)\n",
      "Requirement already satisfied: charset-normalizer<4,>=2 in /Library/Frameworks/Python.framework/Versions/3.12/lib/python3.12/site-packages (from requests->folium) (3.3.2)\n",
      "Requirement already satisfied: idna<4,>=2.5 in /Library/Frameworks/Python.framework/Versions/3.12/lib/python3.12/site-packages (from requests->folium) (3.7)\n",
      "Requirement already satisfied: urllib3<3,>=1.21.1 in /Library/Frameworks/Python.framework/Versions/3.12/lib/python3.12/site-packages (from requests->folium) (2.2.2)\n",
      "Requirement already satisfied: certifi>=2017.4.17 in /Library/Frameworks/Python.framework/Versions/3.12/lib/python3.12/site-packages (from requests->folium) (2024.7.4)\n",
      "\n",
      "\u001b[1m[\u001b[0m\u001b[34;49mnotice\u001b[0m\u001b[1;39;49m]\u001b[0m\u001b[39;49m A new release of pip is available: \u001b[0m\u001b[31;49m25.0\u001b[0m\u001b[39;49m -> \u001b[0m\u001b[32;49m25.0.1\u001b[0m\n",
      "\u001b[1m[\u001b[0m\u001b[34;49mnotice\u001b[0m\u001b[1;39;49m]\u001b[0m\u001b[39;49m To update, run: \u001b[0m\u001b[32;49mpip3 install --upgrade pip\u001b[0m\n",
      "Note: you may need to restart the kernel to use updated packages.\n"
     ]
    }
   ],
   "source": [
    "%pip install folium"
   ]
  },
  {
   "cell_type": "code",
   "execution_count": 13,
   "metadata": {},
   "outputs": [
    {
     "name": "stdout",
     "output_type": "stream",
     "text": [
      "Requirement already satisfied: plotly in /Library/Frameworks/Python.framework/Versions/3.12/lib/python3.12/site-packages (6.0.0)\n",
      "Requirement already satisfied: narwhals>=1.15.1 in /Library/Frameworks/Python.framework/Versions/3.12/lib/python3.12/site-packages (from plotly) (1.28.0)\n",
      "Requirement already satisfied: packaging in /Users/shubhamk/Library/Python/3.12/lib/python/site-packages (from plotly) (23.2)\n",
      "\n",
      "\u001b[1m[\u001b[0m\u001b[34;49mnotice\u001b[0m\u001b[1;39;49m]\u001b[0m\u001b[39;49m A new release of pip is available: \u001b[0m\u001b[31;49m25.0\u001b[0m\u001b[39;49m -> \u001b[0m\u001b[32;49m25.0.1\u001b[0m\n",
      "\u001b[1m[\u001b[0m\u001b[34;49mnotice\u001b[0m\u001b[1;39;49m]\u001b[0m\u001b[39;49m To update, run: \u001b[0m\u001b[32;49mpip3 install --upgrade pip\u001b[0m\n",
      "Note: you may need to restart the kernel to use updated packages.\n"
     ]
    }
   ],
   "source": [
    "%pip install plotly"
   ]
  },
  {
   "cell_type": "code",
   "execution_count": 14,
   "metadata": {},
   "outputs": [],
   "source": [
    "df_grouped = df.groupby(['Port Code', 'Latitude', 'Longitude'], as_index=False)['Value'].sum()\n"
   ]
  },
  {
   "cell_type": "code",
   "execution_count": 15,
   "metadata": {},
   "outputs": [],
   "source": [
    "df_grouped['Port Code'] = df_grouped['Port Code'].astype(str)\n"
   ]
  },
  {
   "cell_type": "code",
   "execution_count": 16,
   "metadata": {},
   "outputs": [],
   "source": [
    "import plotly.express as px\n"
   ]
  },
  {
   "cell_type": "code",
   "execution_count": 18,
   "metadata": {},
   "outputs": [
    {
     "data": {
      "application/vnd.plotly.v1+json": {
       "config": {
        "plotlyServerURL": "https://plot.ly"
       },
       "data": [
        {
         "geo": "geo",
         "hovertemplate": "Value=%{marker.color}<br>Latitude=%{lat}<br>Longitude=%{lon}<extra></extra>",
         "lat": {
          "bdata": "MQisHFrURUDLoUW2821GQLpJDAIr50ZARrbz/dTIRkDhehSuRxFHQFK4HoXrYUdAFK5H4XqUR0CuR+F6FK5HQB1aZDvfn0dAMzMzMzMzRkDVeOkmMZhGQGZmZmZmdkdAmpmZmZk5R0Coxks3iYFGQIts5/upgUZAVOOlm8SARkDFILByaIFGQFK4HoXrgUZA5/up8dJdRkACK4cW2X5GQOF6FK5HEUZAI9v5fmosRkD+1HjpJoFGQOXQItv5fkZAXI/C9SiMRUDByqFFtvM5QMHKoUW2Uz1AFK5H4Xq0PEAAAAAAAIA7QLgehetRGDpABFYOLbJdOkAdWmQ73w86QIGVQ4tsZzpAPzVeukmsP0DdJAaBlcM/QB1aZDvfjz1Aj8L1KFxvP0BiEFg5tMg/QGIQWDm0yD9AcT0K16MwPUCWQ4ts51tAQKAaL90kVkBAL90kBoFFQEB9PzVeuklAQGZmZmZmRkBAoBov3SRWQECgGi/dJEZAQC/dJAaBVT9A4XoUrkfhP0Av3SQGgVU/QGiR7Xw/VT9Az/dT46V7P0CuR+F6FD5AQKwcWmQ7f0hAVg4tsp0PSEDHSzeJQYBIQHNoke18P0hAAAAAAACASEAAAAAAAIBIQAAAAAAAgEhAMQisHFpESEDjpZvEIIBIQAAAAAAAgEhAx0s3iUGASEAAAAAAAIBIQAAAAAAAgEhAx0s3iUGASEAAAAAAAIBIQLKd76fGq0tAcT0K16PQTUAfhetRuE5PQH0/NV66uU1AHVpkO99/SEDjpZvEIIBIQAAAAAAAgEhAAAAAAACASEAAAAAAAIBIQDm0yHa+f0hAHVpkO99/SEA5tMh2vn9IQAAAAAAAgEhAAAAAAACASEAAAAAAAIBIQFYOLbKdf0hAHVpkO99/SEAdWmQ7339IQAAAAAAAgEhAAAAAAACASEAAAAAAAIBIQB1aZDvff0hA46WbxCCASEAdWmQ7339IQB1aZDvff0hAAAAAAACASEAAAAAAAIBIQAAAAAAAgEhAHVpkO99/SEAdWmQ7339IQB1aZDvff0hAAAAAAACASEAAAAAAAIBIQAAAAAAAgEhAAAAAAACASEAdWmQ7339IQB1aZDvff0hAHVpkO99/SEAdWmQ7339IQHnpJjEIXEhAAAAAAACASEAAAAAAAIBIQAAAAAAAgEhA5/up8dJNSEDjpZvEIABIQNEi2/l+KkVAHVpkO99/RUD+1HjpJkFHQMl2vp8aT0VA",
          "dtype": "f8"
         },
         "legendgroup": "",
         "lon": {
          "bdata": "ZDvfT42PUcAfhetRuL5QwMUgsHJomVHA+n5qvHTbUMBEi2zn+/FQwNEi2/l+8lDA3SQGgZX7UMCTGARWDhVRwC2yne+nJlHAZmZmZmYOUcCamZmZmdFQwMP1KFyP8lDACtejcD3yUMAEVg4tsiVSwLgehetR4FHAdZMYBFYGUsCYbhKDwPJRwD0K16NwRVLAWmQ730/dUsCPwvUoXK9SwEoMAiuHFlPA5dAi2/n+UsCiRbbz/VxSwMHKoUW2k1LA3SQGgZXDU8CLbOf7qVlYwAisHFpkO1nAVOOlm8QgWcCcxCCwcuBYwNNNYhBYkVjACKwcWmSzWMDNzMzMzHxYwPCnxks3wVjAPQrXo3CVWsC+nxov3ZxawOF6FK5HGVrA/tR46SaJWsDVeOkmMehawPp+arx0q1rA+FPjpZu8WcA730+Nl65cwEa28/3U2FzAYOXQIttBXcDy0k1iEChdwGq8dJMYPF3ARrbz/dTYXMB1kxgEVj5dwKRwPQrXY1vAPzVeukk0XMDpJjEIrHxbwDEIrBxavFvAiUFg5dDiW8A1XrpJDLJcwA4tsp3vr17A3SQGgZXbXsApXI/C9ZBewGZmZmZmpl7Abef7qfHqXcDHSzeJQaBdwGIQWDm0sF3AGy/dJAbBXsDVeOkmMWhdwHWTGARWjl3AMQisHFrEXsAhsHJokd1dwGiR7Xw/dV3A16NwPQqfXsBCYOXQIlNdwNv5fmq8dGDAaJHtfD/lYMB56SYxCKBhwN0kBoGVC2HA2/l+arwkWsDdJAaBlQtdwEa28/3UGFvADi2yne8fXcAnMQisHFpawD0K16Nw/VvA7nw/NV5KWsDHSzeJQVhcwNV46SYxmFrA3SQGgZXDXMBoke18P/VawI2XbhKD0FvA30+Nl24yXMD2KFyPwo1bwBBYObTIblvAukkMAitPWMBoke18P01YwBfZzvdTo1nAz/dT46VjWMAZBFYOLepYwJqZmZmZkVnAJzEIrBx6WMAj2/l+aqxYwHnpJjEIvFjAukkMAivfWcBt5/up8VJZwNV46SYxaFnAke18PzXWWMCPwvUoXJdYwLKd76fG81nADAIrhxZBWcDHSzeJQcBZwN0kBoGVI1nAF9nO91MDWcDjpZvEINhXwPYoXI/CpVfAO99PjZf+V8AbL90kBvFXwCUGgZVDM1jAi2zn+6lZV8A9CtejcGVWwFCNl24Sw1TAQmDl0CKbVMDJdr6fGhdVwESLbOf7oVTA",
          "dtype": "f8"
         },
         "marker": {
          "color": {
           "bdata": "opkOAKezewDhJysBZhxCAGxk4gEOMsQA9Bo1AYAHkAJpsv4APQkFAA/dDwWxSS8A0vtbAPvflQAeoGYAw59sAzhNYwDbhOkCZCCXAROjDAWykwUA0/M9BGWboAc+mOwAPaMxJNca0iPD3HkJmFJRElTSbS6KLgcnn3inAwA2NAiWET0GVlD1AkihQk3WCQEE+FLgAjfOdAJftKICrLEBAAsy/gQT5EEkePrYUqxRYgZLoGwhjFVMEC5UuAA25CoL9zp+Aij89gGBUEAcJTcpAJS7+RLBingTpWw1AH6DmgThzBkA+QEJAGblPABIsg0A0cACAFRjOQAg7kMAtdvpA9jrTwH7ukcAVjIeA19tKQCH/QIANRqUAJE8SwBv1BgAZVc0ABdO2AAYNgoAKhWcAM2lBwCK/80BXHECABZnrQBqTgUAxLe1AKdwCABRIwEA9hUeADt2DgCLzAIAw95sAqFJHQDzTyABqEo7AJuEGQDFAx8AFTI1AKZuBAALUQcAwGEDALK3DQAilhgAiWQNAMPxDwCSpBEAVp4RAF9JJgCEQRAAla1rACV+pgCv+OQAY/sGAF+uNQBydSYAQ3MgAwKPSgGvFV0gvUm/DMJ7QAVrVAYA",
           "dtype": "i4"
          },
          "coloraxis": "coloraxis",
          "size": {
           "bdata": "opkOAKezewDhJysBZhxCAGxk4gEOMsQA9Bo1AYAHkAJpsv4APQkFAA/dDwWxSS8A0vtbAPvflQAeoGYAw59sAzhNYwDbhOkCZCCXAROjDAWykwUA0/M9BGWboAc+mOwAPaMxJNca0iPD3HkJmFJRElTSbS6KLgcnn3inAwA2NAiWET0GVlD1AkihQk3WCQEE+FLgAjfOdAJftKICrLEBAAsy/gQT5EEkePrYUqxRYgZLoGwhjFVMEC5UuAA25CoL9zp+Aij89gGBUEAcJTcpAJS7+RLBingTpWw1AH6DmgThzBkA+QEJAGblPABIsg0A0cACAFRjOQAg7kMAtdvpA9jrTwH7ukcAVjIeA19tKQCH/QIANRqUAJE8SwBv1BgAZVc0ABdO2AAYNgoAKhWcAM2lBwCK/80BXHECABZnrQBqTgUAxLe1AKdwCABRIwEA9hUeADt2DgCLzAIAw95sAqFJHQDzTyABqEo7AJuEGQDFAx8AFTI1AKZuBAALUQcAwGEDALK3DQAilhgAiWQNAMPxDwCSpBEAVp4RAF9JJgCEQRAAla1rACV+pgCv+OQAY/sGAF+uNQBydSYAQ3MgAwKPSgGvFV0gvUm/DMJ7QAVrVAYA",
           "dtype": "i4"
          },
          "sizemode": "area",
          "sizeref": 3474879.02,
          "symbol": "circle"
         },
         "mode": "markers",
         "name": "",
         "showlegend": false,
         "type": "scattergeo"
        }
       ],
       "layout": {
        "coloraxis": {
         "colorbar": {
          "title": {
           "text": "Value"
          }
         },
         "colorscale": [
          [
           0,
           "#0d0887"
          ],
          [
           0.1111111111111111,
           "#46039f"
          ],
          [
           0.2222222222222222,
           "#7201a8"
          ],
          [
           0.3333333333333333,
           "#9c179e"
          ],
          [
           0.4444444444444444,
           "#bd3786"
          ],
          [
           0.5555555555555556,
           "#d8576b"
          ],
          [
           0.6666666666666666,
           "#ed7953"
          ],
          [
           0.7777777777777778,
           "#fb9f3a"
          ],
          [
           0.8888888888888888,
           "#fdca26"
          ],
          [
           1,
           "#f0f921"
          ]
         ]
        },
        "geo": {
         "center": {},
         "domain": {
          "x": [
           0,
           1
          ],
          "y": [
           0,
           1
          ]
         },
         "projection": {
          "type": "natural earth"
         },
         "showland": true
        },
        "legend": {
         "itemsizing": "constant",
         "tracegroupgap": 0
        },
        "margin": {
         "t": 60
        },
        "template": {
         "data": {
          "bar": [
           {
            "error_x": {
             "color": "#2a3f5f"
            },
            "error_y": {
             "color": "#2a3f5f"
            },
            "marker": {
             "line": {
              "color": "#E5ECF6",
              "width": 0.5
             },
             "pattern": {
              "fillmode": "overlay",
              "size": 10,
              "solidity": 0.2
             }
            },
            "type": "bar"
           }
          ],
          "barpolar": [
           {
            "marker": {
             "line": {
              "color": "#E5ECF6",
              "width": 0.5
             },
             "pattern": {
              "fillmode": "overlay",
              "size": 10,
              "solidity": 0.2
             }
            },
            "type": "barpolar"
           }
          ],
          "carpet": [
           {
            "aaxis": {
             "endlinecolor": "#2a3f5f",
             "gridcolor": "white",
             "linecolor": "white",
             "minorgridcolor": "white",
             "startlinecolor": "#2a3f5f"
            },
            "baxis": {
             "endlinecolor": "#2a3f5f",
             "gridcolor": "white",
             "linecolor": "white",
             "minorgridcolor": "white",
             "startlinecolor": "#2a3f5f"
            },
            "type": "carpet"
           }
          ],
          "choropleth": [
           {
            "colorbar": {
             "outlinewidth": 0,
             "ticks": ""
            },
            "type": "choropleth"
           }
          ],
          "contour": [
           {
            "colorbar": {
             "outlinewidth": 0,
             "ticks": ""
            },
            "colorscale": [
             [
              0,
              "#0d0887"
             ],
             [
              0.1111111111111111,
              "#46039f"
             ],
             [
              0.2222222222222222,
              "#7201a8"
             ],
             [
              0.3333333333333333,
              "#9c179e"
             ],
             [
              0.4444444444444444,
              "#bd3786"
             ],
             [
              0.5555555555555556,
              "#d8576b"
             ],
             [
              0.6666666666666666,
              "#ed7953"
             ],
             [
              0.7777777777777778,
              "#fb9f3a"
             ],
             [
              0.8888888888888888,
              "#fdca26"
             ],
             [
              1,
              "#f0f921"
             ]
            ],
            "type": "contour"
           }
          ],
          "contourcarpet": [
           {
            "colorbar": {
             "outlinewidth": 0,
             "ticks": ""
            },
            "type": "contourcarpet"
           }
          ],
          "heatmap": [
           {
            "colorbar": {
             "outlinewidth": 0,
             "ticks": ""
            },
            "colorscale": [
             [
              0,
              "#0d0887"
             ],
             [
              0.1111111111111111,
              "#46039f"
             ],
             [
              0.2222222222222222,
              "#7201a8"
             ],
             [
              0.3333333333333333,
              "#9c179e"
             ],
             [
              0.4444444444444444,
              "#bd3786"
             ],
             [
              0.5555555555555556,
              "#d8576b"
             ],
             [
              0.6666666666666666,
              "#ed7953"
             ],
             [
              0.7777777777777778,
              "#fb9f3a"
             ],
             [
              0.8888888888888888,
              "#fdca26"
             ],
             [
              1,
              "#f0f921"
             ]
            ],
            "type": "heatmap"
           }
          ],
          "histogram": [
           {
            "marker": {
             "pattern": {
              "fillmode": "overlay",
              "size": 10,
              "solidity": 0.2
             }
            },
            "type": "histogram"
           }
          ],
          "histogram2d": [
           {
            "colorbar": {
             "outlinewidth": 0,
             "ticks": ""
            },
            "colorscale": [
             [
              0,
              "#0d0887"
             ],
             [
              0.1111111111111111,
              "#46039f"
             ],
             [
              0.2222222222222222,
              "#7201a8"
             ],
             [
              0.3333333333333333,
              "#9c179e"
             ],
             [
              0.4444444444444444,
              "#bd3786"
             ],
             [
              0.5555555555555556,
              "#d8576b"
             ],
             [
              0.6666666666666666,
              "#ed7953"
             ],
             [
              0.7777777777777778,
              "#fb9f3a"
             ],
             [
              0.8888888888888888,
              "#fdca26"
             ],
             [
              1,
              "#f0f921"
             ]
            ],
            "type": "histogram2d"
           }
          ],
          "histogram2dcontour": [
           {
            "colorbar": {
             "outlinewidth": 0,
             "ticks": ""
            },
            "colorscale": [
             [
              0,
              "#0d0887"
             ],
             [
              0.1111111111111111,
              "#46039f"
             ],
             [
              0.2222222222222222,
              "#7201a8"
             ],
             [
              0.3333333333333333,
              "#9c179e"
             ],
             [
              0.4444444444444444,
              "#bd3786"
             ],
             [
              0.5555555555555556,
              "#d8576b"
             ],
             [
              0.6666666666666666,
              "#ed7953"
             ],
             [
              0.7777777777777778,
              "#fb9f3a"
             ],
             [
              0.8888888888888888,
              "#fdca26"
             ],
             [
              1,
              "#f0f921"
             ]
            ],
            "type": "histogram2dcontour"
           }
          ],
          "mesh3d": [
           {
            "colorbar": {
             "outlinewidth": 0,
             "ticks": ""
            },
            "type": "mesh3d"
           }
          ],
          "parcoords": [
           {
            "line": {
             "colorbar": {
              "outlinewidth": 0,
              "ticks": ""
             }
            },
            "type": "parcoords"
           }
          ],
          "pie": [
           {
            "automargin": true,
            "type": "pie"
           }
          ],
          "scatter": [
           {
            "fillpattern": {
             "fillmode": "overlay",
             "size": 10,
             "solidity": 0.2
            },
            "type": "scatter"
           }
          ],
          "scatter3d": [
           {
            "line": {
             "colorbar": {
              "outlinewidth": 0,
              "ticks": ""
             }
            },
            "marker": {
             "colorbar": {
              "outlinewidth": 0,
              "ticks": ""
             }
            },
            "type": "scatter3d"
           }
          ],
          "scattercarpet": [
           {
            "marker": {
             "colorbar": {
              "outlinewidth": 0,
              "ticks": ""
             }
            },
            "type": "scattercarpet"
           }
          ],
          "scattergeo": [
           {
            "marker": {
             "colorbar": {
              "outlinewidth": 0,
              "ticks": ""
             }
            },
            "type": "scattergeo"
           }
          ],
          "scattergl": [
           {
            "marker": {
             "colorbar": {
              "outlinewidth": 0,
              "ticks": ""
             }
            },
            "type": "scattergl"
           }
          ],
          "scattermap": [
           {
            "marker": {
             "colorbar": {
              "outlinewidth": 0,
              "ticks": ""
             }
            },
            "type": "scattermap"
           }
          ],
          "scattermapbox": [
           {
            "marker": {
             "colorbar": {
              "outlinewidth": 0,
              "ticks": ""
             }
            },
            "type": "scattermapbox"
           }
          ],
          "scatterpolar": [
           {
            "marker": {
             "colorbar": {
              "outlinewidth": 0,
              "ticks": ""
             }
            },
            "type": "scatterpolar"
           }
          ],
          "scatterpolargl": [
           {
            "marker": {
             "colorbar": {
              "outlinewidth": 0,
              "ticks": ""
             }
            },
            "type": "scatterpolargl"
           }
          ],
          "scatterternary": [
           {
            "marker": {
             "colorbar": {
              "outlinewidth": 0,
              "ticks": ""
             }
            },
            "type": "scatterternary"
           }
          ],
          "surface": [
           {
            "colorbar": {
             "outlinewidth": 0,
             "ticks": ""
            },
            "colorscale": [
             [
              0,
              "#0d0887"
             ],
             [
              0.1111111111111111,
              "#46039f"
             ],
             [
              0.2222222222222222,
              "#7201a8"
             ],
             [
              0.3333333333333333,
              "#9c179e"
             ],
             [
              0.4444444444444444,
              "#bd3786"
             ],
             [
              0.5555555555555556,
              "#d8576b"
             ],
             [
              0.6666666666666666,
              "#ed7953"
             ],
             [
              0.7777777777777778,
              "#fb9f3a"
             ],
             [
              0.8888888888888888,
              "#fdca26"
             ],
             [
              1,
              "#f0f921"
             ]
            ],
            "type": "surface"
           }
          ],
          "table": [
           {
            "cells": {
             "fill": {
              "color": "#EBF0F8"
             },
             "line": {
              "color": "white"
             }
            },
            "header": {
             "fill": {
              "color": "#C8D4E3"
             },
             "line": {
              "color": "white"
             }
            },
            "type": "table"
           }
          ]
         },
         "layout": {
          "annotationdefaults": {
           "arrowcolor": "#2a3f5f",
           "arrowhead": 0,
           "arrowwidth": 1
          },
          "autotypenumbers": "strict",
          "coloraxis": {
           "colorbar": {
            "outlinewidth": 0,
            "ticks": ""
           }
          },
          "colorscale": {
           "diverging": [
            [
             0,
             "#8e0152"
            ],
            [
             0.1,
             "#c51b7d"
            ],
            [
             0.2,
             "#de77ae"
            ],
            [
             0.3,
             "#f1b6da"
            ],
            [
             0.4,
             "#fde0ef"
            ],
            [
             0.5,
             "#f7f7f7"
            ],
            [
             0.6,
             "#e6f5d0"
            ],
            [
             0.7,
             "#b8e186"
            ],
            [
             0.8,
             "#7fbc41"
            ],
            [
             0.9,
             "#4d9221"
            ],
            [
             1,
             "#276419"
            ]
           ],
           "sequential": [
            [
             0,
             "#0d0887"
            ],
            [
             0.1111111111111111,
             "#46039f"
            ],
            [
             0.2222222222222222,
             "#7201a8"
            ],
            [
             0.3333333333333333,
             "#9c179e"
            ],
            [
             0.4444444444444444,
             "#bd3786"
            ],
            [
             0.5555555555555556,
             "#d8576b"
            ],
            [
             0.6666666666666666,
             "#ed7953"
            ],
            [
             0.7777777777777778,
             "#fb9f3a"
            ],
            [
             0.8888888888888888,
             "#fdca26"
            ],
            [
             1,
             "#f0f921"
            ]
           ],
           "sequentialminus": [
            [
             0,
             "#0d0887"
            ],
            [
             0.1111111111111111,
             "#46039f"
            ],
            [
             0.2222222222222222,
             "#7201a8"
            ],
            [
             0.3333333333333333,
             "#9c179e"
            ],
            [
             0.4444444444444444,
             "#bd3786"
            ],
            [
             0.5555555555555556,
             "#d8576b"
            ],
            [
             0.6666666666666666,
             "#ed7953"
            ],
            [
             0.7777777777777778,
             "#fb9f3a"
            ],
            [
             0.8888888888888888,
             "#fdca26"
            ],
            [
             1,
             "#f0f921"
            ]
           ]
          },
          "colorway": [
           "#636efa",
           "#EF553B",
           "#00cc96",
           "#ab63fa",
           "#FFA15A",
           "#19d3f3",
           "#FF6692",
           "#B6E880",
           "#FF97FF",
           "#FECB52"
          ],
          "font": {
           "color": "#2a3f5f"
          },
          "geo": {
           "bgcolor": "white",
           "lakecolor": "white",
           "landcolor": "#E5ECF6",
           "showlakes": true,
           "showland": true,
           "subunitcolor": "white"
          },
          "hoverlabel": {
           "align": "left"
          },
          "hovermode": "closest",
          "mapbox": {
           "style": "light"
          },
          "paper_bgcolor": "white",
          "plot_bgcolor": "#E5ECF6",
          "polar": {
           "angularaxis": {
            "gridcolor": "white",
            "linecolor": "white",
            "ticks": ""
           },
           "bgcolor": "#E5ECF6",
           "radialaxis": {
            "gridcolor": "white",
            "linecolor": "white",
            "ticks": ""
           }
          },
          "scene": {
           "xaxis": {
            "backgroundcolor": "#E5ECF6",
            "gridcolor": "white",
            "gridwidth": 2,
            "linecolor": "white",
            "showbackground": true,
            "ticks": "",
            "zerolinecolor": "white"
           },
           "yaxis": {
            "backgroundcolor": "#E5ECF6",
            "gridcolor": "white",
            "gridwidth": 2,
            "linecolor": "white",
            "showbackground": true,
            "ticks": "",
            "zerolinecolor": "white"
           },
           "zaxis": {
            "backgroundcolor": "#E5ECF6",
            "gridcolor": "white",
            "gridwidth": 2,
            "linecolor": "white",
            "showbackground": true,
            "ticks": "",
            "zerolinecolor": "white"
           }
          },
          "shapedefaults": {
           "line": {
            "color": "#2a3f5f"
           }
          },
          "ternary": {
           "aaxis": {
            "gridcolor": "white",
            "linecolor": "white",
            "ticks": ""
           },
           "baxis": {
            "gridcolor": "white",
            "linecolor": "white",
            "ticks": ""
           },
           "bgcolor": "#E5ECF6",
           "caxis": {
            "gridcolor": "white",
            "linecolor": "white",
            "ticks": ""
           }
          },
          "title": {
           "x": 0.05
          },
          "xaxis": {
           "automargin": true,
           "gridcolor": "white",
           "linecolor": "white",
           "ticks": "",
           "title": {
            "standoff": 15
           },
           "zerolinecolor": "white",
           "zerolinewidth": 2
          },
          "yaxis": {
           "automargin": true,
           "gridcolor": "white",
           "linecolor": "white",
           "ticks": "",
           "title": {
            "standoff": 15
           },
           "zerolinecolor": "white",
           "zerolinewidth": 2
          }
         }
        },
        "title": {
         "text": "Ports with Summed Values"
        }
       }
      }
     },
     "metadata": {},
     "output_type": "display_data"
    }
   ],
   "source": [
    "fig = px.scatter_geo(df_grouped,\n",
    "                     lat='Latitude',\n",
    "                     lon='Longitude',\n",
    "                     #text='Port Code',  # Now properly displayed\n",
    "                     size='Value',  # Bubble size based on summed value\n",
    "                     color='Value',\n",
    "                     projection='natural earth')\n",
    "\n",
    "fig.update_layout(title='Ports with Summed Values', geo=dict(showland=True))\n",
    "fig.show()"
   ]
  }
 ],
 "metadata": {
  "kernelspec": {
   "display_name": "Python 3",
   "language": "python",
   "name": "python3"
  },
  "language_info": {
   "codemirror_mode": {
    "name": "ipython",
    "version": 3
   },
   "file_extension": ".py",
   "mimetype": "text/x-python",
   "name": "python",
   "nbconvert_exporter": "python",
   "pygments_lexer": "ipython3",
   "version": "3.12.0"
  }
 },
 "nbformat": 4,
 "nbformat_minor": 2
}
